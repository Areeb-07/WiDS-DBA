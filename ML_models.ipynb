{
  "cells": [
    {
      "cell_type": "markdown",
      "metadata": {
        "id": "view-in-github",
        "colab_type": "text"
      },
      "source": [
        "<a href=\"https://colab.research.google.com/github/Areeb-07/WiDS-DBA/blob/main/ML_models.ipynb\" target=\"_parent\"><img src=\"https://colab.research.google.com/assets/colab-badge.svg\" alt=\"Open In Colab\"/></a>"
      ]
    },
    {
      "cell_type": "markdown",
      "metadata": {
        "id": "5x-GSgt5DuFt"
      },
      "source": [
        "# Importing Libraries"
      ]
    },
    {
      "cell_type": "code",
      "execution_count": null,
      "metadata": {
        "id": "a5mwvNceq75o"
      },
      "outputs": [],
      "source": [
        "import pandas as pd\n",
        "from sklearn import preprocessing\n",
        "from sklearn.model_selection import train_test_split\n",
        "from sklearn.ensemble import RandomForestClassifier\n",
        "from sklearn.metrics import accuracy_score\n",
        "from sklearn.naive_bayes import GaussianNB\n",
        "from sklearn.linear_model import LogisticRegression\n",
        "from sklearn.ensemble import ExtraTreesClassifier\n",
        "from sklearn.svm import LinearSVC\n",
        "from sklearn.preprocessing import StandardScaler\n",
        "from sklearn.ensemble import AdaBoostClassifier\n",
        "from sklearn.ensemble import GradientBoostingClassifier\n",
        "import warnings\n",
        "warnings.filterwarnings('ignore')"
      ]
    },
    {
      "cell_type": "markdown",
      "metadata": {
        "id": "kRDOxq4RD1K6"
      },
      "source": [
        "# Getting Data"
      ]
    },
    {
      "cell_type": "code",
      "execution_count": null,
      "metadata": {
        "colab": {
          "resources": {
            "http://localhost:8080/nbextensions/google.colab/files.js": {
              "data": "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",
              "ok": true,
              "headers": [
                [
                  "content-type",
                  "application/javascript"
                ]
              ],
              "status": 200,
              "status_text": ""
            }
          },
          "base_uri": "https://localhost:8080/",
          "height": 74
        },
        "id": "2uL9_bEXrF-C",
        "outputId": "0d2f52ef-6a42-465c-8383-ebdcec749cd9"
      },
      "outputs": [
        {
          "output_type": "display_data",
          "data": {
            "text/html": [
              "\n",
              "     <input type=\"file\" id=\"files-41a41ef6-f8b7-4e3e-b1b7-5677322ab81b\" name=\"files[]\" multiple disabled\n",
              "        style=\"border:none\" />\n",
              "     <output id=\"result-41a41ef6-f8b7-4e3e-b1b7-5677322ab81b\">\n",
              "      Upload widget is only available when the cell has been executed in the\n",
              "      current browser session. Please rerun this cell to enable.\n",
              "      </output>\n",
              "      <script src=\"/nbextensions/google.colab/files.js\"></script> "
            ],
            "text/plain": [
              "<IPython.core.display.HTML object>"
            ]
          },
          "metadata": {}
        },
        {
          "output_type": "stream",
          "name": "stdout",
          "text": [
            "Saving full_data_carla.csv to full_data_carla.csv\n"
          ]
        }
      ],
      "source": [
        "from google.colab import files\n",
        "uploaded = files.upload() # The data will be loaded from the local device"
      ]
    },
    {
      "cell_type": "code",
      "execution_count": null,
      "metadata": {
        "id": "i7yqIfqWrRyg"
      },
      "outputs": [],
      "source": [
        "df=pd.read_csv('full_data_carla.csv') # Reading the data into a DataFrame named df"
      ]
    },
    {
      "cell_type": "code",
      "execution_count": null,
      "metadata": {
        "colab": {
          "base_uri": "https://localhost:8080/",
          "height": 423
        },
        "id": "0ihKGAYHrWhD",
        "outputId": "25560d19-3f76-4742-bb6b-4f7ad5aaaf6f"
      },
      "outputs": [
        {
          "output_type": "execute_result",
          "data": {
            "text/html": [
              "\n",
              "  <div id=\"df-843234fc-3987-44e9-9423-b8ea8daabfb5\">\n",
              "    <div class=\"colab-df-container\">\n",
              "      <div>\n",
              "<style scoped>\n",
              "    .dataframe tbody tr th:only-of-type {\n",
              "        vertical-align: middle;\n",
              "    }\n",
              "\n",
              "    .dataframe tbody tr th {\n",
              "        vertical-align: top;\n",
              "    }\n",
              "\n",
              "    .dataframe thead th {\n",
              "        text-align: right;\n",
              "    }\n",
              "</style>\n",
              "<table border=\"1\" class=\"dataframe\">\n",
              "  <thead>\n",
              "    <tr style=\"text-align: right;\">\n",
              "      <th></th>\n",
              "      <th>Unnamed: 0</th>\n",
              "      <th>accelX</th>\n",
              "      <th>accelY</th>\n",
              "      <th>accelZ</th>\n",
              "      <th>class</th>\n",
              "      <th>gyroX</th>\n",
              "      <th>gyroY</th>\n",
              "      <th>gyroZ</th>\n",
              "    </tr>\n",
              "  </thead>\n",
              "  <tbody>\n",
              "    <tr>\n",
              "      <th>0</th>\n",
              "      <td>0</td>\n",
              "      <td>-0.244069</td>\n",
              "      <td>8.094744e-02</td>\n",
              "      <td>9.807350</td>\n",
              "      <td>apo</td>\n",
              "      <td>0.000000</td>\n",
              "      <td>0.000000</td>\n",
              "      <td>0.000000</td>\n",
              "    </tr>\n",
              "    <tr>\n",
              "      <th>1</th>\n",
              "      <td>1</td>\n",
              "      <td>-0.206027</td>\n",
              "      <td>-9.387732e-07</td>\n",
              "      <td>9.807837</td>\n",
              "      <td>apo</td>\n",
              "      <td>0.000000</td>\n",
              "      <td>0.000000</td>\n",
              "      <td>0.000000</td>\n",
              "    </tr>\n",
              "    <tr>\n",
              "      <th>2</th>\n",
              "      <td>2</td>\n",
              "      <td>-0.226992</td>\n",
              "      <td>-3.950313e-02</td>\n",
              "      <td>9.807553</td>\n",
              "      <td>apo</td>\n",
              "      <td>0.000000</td>\n",
              "      <td>0.000000</td>\n",
              "      <td>0.000000</td>\n",
              "    </tr>\n",
              "    <tr>\n",
              "      <th>3</th>\n",
              "      <td>3</td>\n",
              "      <td>-0.225045</td>\n",
              "      <td>4.047326e-02</td>\n",
              "      <td>9.807437</td>\n",
              "      <td>apo</td>\n",
              "      <td>0.000000</td>\n",
              "      <td>0.000000</td>\n",
              "      <td>0.000000</td>\n",
              "    </tr>\n",
              "    <tr>\n",
              "      <th>4</th>\n",
              "      <td>4</td>\n",
              "      <td>-0.226992</td>\n",
              "      <td>-3.950313e-02</td>\n",
              "      <td>9.807553</td>\n",
              "      <td>apo</td>\n",
              "      <td>0.000000</td>\n",
              "      <td>0.000000</td>\n",
              "      <td>0.000000</td>\n",
              "    </tr>\n",
              "    <tr>\n",
              "      <th>...</th>\n",
              "      <td>...</td>\n",
              "      <td>...</td>\n",
              "      <td>...</td>\n",
              "      <td>...</td>\n",
              "      <td>...</td>\n",
              "      <td>...</td>\n",
              "      <td>...</td>\n",
              "      <td>...</td>\n",
              "    </tr>\n",
              "    <tr>\n",
              "      <th>99353</th>\n",
              "      <td>99353</td>\n",
              "      <td>-1.511383</td>\n",
              "      <td>2.782583e-02</td>\n",
              "      <td>9.805461</td>\n",
              "      <td>selin</td>\n",
              "      <td>0.008643</td>\n",
              "      <td>-0.001575</td>\n",
              "      <td>-0.005514</td>\n",
              "    </tr>\n",
              "    <tr>\n",
              "      <th>99354</th>\n",
              "      <td>99354</td>\n",
              "      <td>-1.494224</td>\n",
              "      <td>1.084785e-01</td>\n",
              "      <td>9.805621</td>\n",
              "      <td>selin</td>\n",
              "      <td>0.007890</td>\n",
              "      <td>-0.001658</td>\n",
              "      <td>-0.005501</td>\n",
              "    </tr>\n",
              "    <tr>\n",
              "      <th>99355</th>\n",
              "      <td>99355</td>\n",
              "      <td>-1.523028</td>\n",
              "      <td>-2.127216e-01</td>\n",
              "      <td>9.804395</td>\n",
              "      <td>selin</td>\n",
              "      <td>0.005966</td>\n",
              "      <td>-0.001740</td>\n",
              "      <td>-0.005473</td>\n",
              "    </tr>\n",
              "    <tr>\n",
              "      <th>99356</th>\n",
              "      <td>99356</td>\n",
              "      <td>-1.511467</td>\n",
              "      <td>2.783418e-02</td>\n",
              "      <td>9.805650</td>\n",
              "      <td>selin</td>\n",
              "      <td>0.004825</td>\n",
              "      <td>-0.001693</td>\n",
              "      <td>-0.005456</td>\n",
              "    </tr>\n",
              "    <tr>\n",
              "      <th>99357</th>\n",
              "      <td>99357</td>\n",
              "      <td>-1.434334</td>\n",
              "      <td>1.105895e-01</td>\n",
              "      <td>9.805491</td>\n",
              "      <td>selin</td>\n",
              "      <td>0.002422</td>\n",
              "      <td>-0.001670</td>\n",
              "      <td>-0.005421</td>\n",
              "    </tr>\n",
              "  </tbody>\n",
              "</table>\n",
              "<p>99358 rows × 8 columns</p>\n",
              "</div>\n",
              "      <button class=\"colab-df-convert\" onclick=\"convertToInteractive('df-843234fc-3987-44e9-9423-b8ea8daabfb5')\"\n",
              "              title=\"Convert this dataframe to an interactive table.\"\n",
              "              style=\"display:none;\">\n",
              "        \n",
              "  <svg xmlns=\"http://www.w3.org/2000/svg\" height=\"24px\"viewBox=\"0 0 24 24\"\n",
              "       width=\"24px\">\n",
              "    <path d=\"M0 0h24v24H0V0z\" fill=\"none\"/>\n",
              "    <path d=\"M18.56 5.44l.94 2.06.94-2.06 2.06-.94-2.06-.94-.94-2.06-.94 2.06-2.06.94zm-11 1L8.5 8.5l.94-2.06 2.06-.94-2.06-.94L8.5 2.5l-.94 2.06-2.06.94zm10 10l.94 2.06.94-2.06 2.06-.94-2.06-.94-.94-2.06-.94 2.06-2.06.94z\"/><path d=\"M17.41 7.96l-1.37-1.37c-.4-.4-.92-.59-1.43-.59-.52 0-1.04.2-1.43.59L10.3 9.45l-7.72 7.72c-.78.78-.78 2.05 0 2.83L4 21.41c.39.39.9.59 1.41.59.51 0 1.02-.2 1.41-.59l7.78-7.78 2.81-2.81c.8-.78.8-2.07 0-2.86zM5.41 20L4 18.59l7.72-7.72 1.47 1.35L5.41 20z\"/>\n",
              "  </svg>\n",
              "      </button>\n",
              "      \n",
              "  <style>\n",
              "    .colab-df-container {\n",
              "      display:flex;\n",
              "      flex-wrap:wrap;\n",
              "      gap: 12px;\n",
              "    }\n",
              "\n",
              "    .colab-df-convert {\n",
              "      background-color: #E8F0FE;\n",
              "      border: none;\n",
              "      border-radius: 50%;\n",
              "      cursor: pointer;\n",
              "      display: none;\n",
              "      fill: #1967D2;\n",
              "      height: 32px;\n",
              "      padding: 0 0 0 0;\n",
              "      width: 32px;\n",
              "    }\n",
              "\n",
              "    .colab-df-convert:hover {\n",
              "      background-color: #E2EBFA;\n",
              "      box-shadow: 0px 1px 2px rgba(60, 64, 67, 0.3), 0px 1px 3px 1px rgba(60, 64, 67, 0.15);\n",
              "      fill: #174EA6;\n",
              "    }\n",
              "\n",
              "    [theme=dark] .colab-df-convert {\n",
              "      background-color: #3B4455;\n",
              "      fill: #D2E3FC;\n",
              "    }\n",
              "\n",
              "    [theme=dark] .colab-df-convert:hover {\n",
              "      background-color: #434B5C;\n",
              "      box-shadow: 0px 1px 3px 1px rgba(0, 0, 0, 0.15);\n",
              "      filter: drop-shadow(0px 1px 2px rgba(0, 0, 0, 0.3));\n",
              "      fill: #FFFFFF;\n",
              "    }\n",
              "  </style>\n",
              "\n",
              "      <script>\n",
              "        const buttonEl =\n",
              "          document.querySelector('#df-843234fc-3987-44e9-9423-b8ea8daabfb5 button.colab-df-convert');\n",
              "        buttonEl.style.display =\n",
              "          google.colab.kernel.accessAllowed ? 'block' : 'none';\n",
              "\n",
              "        async function convertToInteractive(key) {\n",
              "          const element = document.querySelector('#df-843234fc-3987-44e9-9423-b8ea8daabfb5');\n",
              "          const dataTable =\n",
              "            await google.colab.kernel.invokeFunction('convertToInteractive',\n",
              "                                                     [key], {});\n",
              "          if (!dataTable) return;\n",
              "\n",
              "          const docLinkHtml = 'Like what you see? Visit the ' +\n",
              "            '<a target=\"_blank\" href=https://colab.research.google.com/notebooks/data_table.ipynb>data table notebook</a>'\n",
              "            + ' to learn more about interactive tables.';\n",
              "          element.innerHTML = '';\n",
              "          dataTable['output_type'] = 'display_data';\n",
              "          await google.colab.output.renderOutput(dataTable, element);\n",
              "          const docLink = document.createElement('div');\n",
              "          docLink.innerHTML = docLinkHtml;\n",
              "          element.appendChild(docLink);\n",
              "        }\n",
              "      </script>\n",
              "    </div>\n",
              "  </div>\n",
              "  "
            ],
            "text/plain": [
              "       Unnamed: 0    accelX        accelY  ...     gyroX     gyroY     gyroZ\n",
              "0               0 -0.244069  8.094744e-02  ...  0.000000  0.000000  0.000000\n",
              "1               1 -0.206027 -9.387732e-07  ...  0.000000  0.000000  0.000000\n",
              "2               2 -0.226992 -3.950313e-02  ...  0.000000  0.000000  0.000000\n",
              "3               3 -0.225045  4.047326e-02  ...  0.000000  0.000000  0.000000\n",
              "4               4 -0.226992 -3.950313e-02  ...  0.000000  0.000000  0.000000\n",
              "...           ...       ...           ...  ...       ...       ...       ...\n",
              "99353       99353 -1.511383  2.782583e-02  ...  0.008643 -0.001575 -0.005514\n",
              "99354       99354 -1.494224  1.084785e-01  ...  0.007890 -0.001658 -0.005501\n",
              "99355       99355 -1.523028 -2.127216e-01  ...  0.005966 -0.001740 -0.005473\n",
              "99356       99356 -1.511467  2.783418e-02  ...  0.004825 -0.001693 -0.005456\n",
              "99357       99357 -1.434334  1.105895e-01  ...  0.002422 -0.001670 -0.005421\n",
              "\n",
              "[99358 rows x 8 columns]"
            ]
          },
          "metadata": {},
          "execution_count": 6
        }
      ],
      "source": [
        "df # A look at the dataset"
      ]
    },
    {
      "cell_type": "markdown",
      "metadata": {
        "id": "Uk_vv2zqD7rY"
      },
      "source": [
        "-   The column 'Unnamed: 0' is unnecessary"
      ]
    },
    {
      "cell_type": "code",
      "execution_count": null,
      "metadata": {
        "id": "MnhehfUUrZ67"
      },
      "outputs": [],
      "source": [
        "df.drop(['Unnamed: 0'],axis=1,inplace=True) # Dropping the 'Unnamed: 0' Column"
      ]
    },
    {
      "cell_type": "code",
      "execution_count": null,
      "metadata": {
        "colab": {
          "base_uri": "https://localhost:8080/"
        },
        "id": "pBfjbO-erjbd",
        "outputId": "436101de-0278-4228-bfb0-4940793cb823"
      },
      "outputs": [
        {
          "output_type": "stream",
          "name": "stdout",
          "text": [
            "<class 'pandas.core.frame.DataFrame'>\n",
            "RangeIndex: 99358 entries, 0 to 99357\n",
            "Data columns (total 7 columns):\n",
            " #   Column  Non-Null Count  Dtype  \n",
            "---  ------  --------------  -----  \n",
            " 0   accelX  99358 non-null  float64\n",
            " 1   accelY  99358 non-null  float64\n",
            " 2   accelZ  99358 non-null  float64\n",
            " 3   class   99358 non-null  object \n",
            " 4   gyroX   99358 non-null  float64\n",
            " 5   gyroY   99358 non-null  float64\n",
            " 6   gyroZ   99358 non-null  float64\n",
            "dtypes: float64(6), object(1)\n",
            "memory usage: 5.3+ MB\n"
          ]
        }
      ],
      "source": [
        "df.info() # Basic information about the dataset"
      ]
    },
    {
      "cell_type": "markdown",
      "metadata": {
        "id": "RE7L9Lb-ENlr"
      },
      "source": [
        "# Classifying the Driver Behaviour"
      ]
    },
    {
      "cell_type": "markdown",
      "metadata": {
        "id": "98SEq5caEVXs"
      },
      "source": [
        "### Creating Separate Dataframes for each Class"
      ]
    },
    {
      "cell_type": "code",
      "execution_count": null,
      "metadata": {
        "id": "is9QbFqcrnet"
      },
      "outputs": [],
      "source": [
        "apo=df[(df['class']=='apo')].reset_index(drop=True)\n",
        "onder=df[(df['class']=='onder')].reset_index(drop=True)\n",
        "hurcan=df[(df['class']=='hurcan')].reset_index(drop=True)\n",
        "gonca=df[(df['class']=='gonca')].reset_index(drop=True)\n",
        "mehdi=df[(df['class']=='mehdi')].reset_index(drop=True)\n",
        "berk=df[(df['class']=='berk')].reset_index(drop=True)\n",
        "selin=df[(df['class']=='selin')].reset_index(drop=True)"
      ]
    },
    {
      "cell_type": "markdown",
      "metadata": {
        "id": "v-TTf4e0EhDc"
      },
      "source": [
        "### Finding the First and Third Quartile for each Column of each Dataframe"
      ]
    },
    {
      "cell_type": "markdown",
      "metadata": {
        "id": "wx6x20zNE3IJ"
      },
      "source": [
        " ##### Driver Apo"
      ]
    },
    {
      "cell_type": "code",
      "execution_count": null,
      "metadata": {
        "id": "jZTNuhTRu7cO"
      },
      "outputs": [],
      "source": [
        "apo_ax_1stquar=apo['accelX'].quantile(0.25)\n",
        "apo_ax_3rdquar=apo['accelX'].quantile(0.75)\n",
        "apo_ay_1stquar=apo['accelY'].quantile(0.25)\n",
        "apo_ay_3rdquar=apo['accelY'].quantile(0.75)\n",
        "apo_az_1stquar=apo['accelZ'].quantile(0.25)\n",
        "apo_az_3rdquar=apo['accelZ'].quantile(0.75)\n",
        "apo_gx_1stquar=apo['gyroX'].quantile(0.25)\n",
        "apo_gx_3rdquar=apo['gyroX'].quantile(0.75)\n",
        "apo_gy_1stquar=apo['gyroY'].quantile(0.25)\n",
        "apo_gy_3rdquar=apo['gyroY'].quantile(0.75)\n",
        "apo_gz_1stquar=apo['gyroZ'].quantile(0.25)\n",
        "apo_gz_3rdquar=apo['gyroZ'].quantile(0.75)"
      ]
    },
    {
      "cell_type": "markdown",
      "metadata": {
        "id": "rnOdArbPE6jV"
      },
      "source": [
        "#####Diver Onder"
      ]
    },
    {
      "cell_type": "code",
      "execution_count": null,
      "metadata": {
        "id": "zK1CLR7CwluL"
      },
      "outputs": [],
      "source": [
        "onder_ax_1stquar=onder['accelX'].quantile(0.25)\n",
        "onder_ax_3rdquar=onder['accelX'].quantile(0.75)\n",
        "onder_ay_1stquar=onder['accelY'].quantile(0.25)\n",
        "onder_ay_3rdquar=onder['accelY'].quantile(0.75)\n",
        "onder_az_1stquar=onder['accelZ'].quantile(0.25)\n",
        "onder_az_3rdquar=onder['accelZ'].quantile(0.75)\n",
        "onder_gx_1stquar=onder['gyroX'].quantile(0.25)\n",
        "onder_gx_3rdquar=onder['gyroX'].quantile(0.75)\n",
        "onder_gy_1stquar=onder['gyroY'].quantile(0.25)\n",
        "onder_gy_3rdquar=onder['gyroY'].quantile(0.75)\n",
        "onder_gz_1stquar=onder['gyroZ'].quantile(0.25)\n",
        "onder_gz_3rdquar=onder['gyroZ'].quantile(0.75)"
      ]
    },
    {
      "cell_type": "markdown",
      "metadata": {
        "id": "JXzm7JtCFDz1"
      },
      "source": [
        "#####Driver Hurcan"
      ]
    },
    {
      "cell_type": "code",
      "execution_count": null,
      "metadata": {
        "id": "iBt8TZ5oxQDe"
      },
      "outputs": [],
      "source": [
        "hurcan_ax_1stquar=hurcan['accelX'].quantile(0.25)\n",
        "hurcan_ax_3rdquar=hurcan['accelX'].quantile(0.75)\n",
        "hurcan_ay_1stquar=hurcan['accelY'].quantile(0.25)\n",
        "hurcan_ay_3rdquar=hurcan['accelY'].quantile(0.75)\n",
        "hurcan_az_1stquar=hurcan['accelZ'].quantile(0.25)\n",
        "hurcan_az_3rdquar=hurcan['accelZ'].quantile(0.75)\n",
        "hurcan_gx_1stquar=hurcan['gyroX'].quantile(0.25)\n",
        "hurcan_gx_3rdquar=hurcan['gyroX'].quantile(0.75)\n",
        "hurcan_gy_1stquar=hurcan['gyroY'].quantile(0.25)\n",
        "hurcan_gy_3rdquar=hurcan['gyroY'].quantile(0.75)\n",
        "hurcan_gz_1stquar=hurcan['gyroZ'].quantile(0.25)\n",
        "hurcan_gz_3rdquar=hurcan['gyroZ'].quantile(0.75)"
      ]
    },
    {
      "cell_type": "markdown",
      "metadata": {
        "id": "V5nK-tqeFHhC"
      },
      "source": [
        "#####Driver Gonca"
      ]
    },
    {
      "cell_type": "code",
      "execution_count": null,
      "metadata": {
        "id": "Z7yiEoVt0kSO"
      },
      "outputs": [],
      "source": [
        "gonca_ax_1stquar=gonca['accelX'].quantile(0.25)\n",
        "gonca_ax_3rdquar=gonca['accelX'].quantile(0.75)\n",
        "gonca_ay_1stquar=gonca['accelY'].quantile(0.25)\n",
        "gonca_ay_3rdquar=gonca['accelY'].quantile(0.75)\n",
        "gonca_az_1stquar=gonca['accelZ'].quantile(0.25)\n",
        "gonca_az_3rdquar=gonca['accelZ'].quantile(0.75)\n",
        "gonca_gx_1stquar=gonca['gyroX'].quantile(0.25)\n",
        "gonca_gx_3rdquar=gonca['gyroX'].quantile(0.75)\n",
        "gonca_gy_1stquar=gonca['gyroY'].quantile(0.25)\n",
        "gonca_gy_3rdquar=gonca['gyroY'].quantile(0.75)\n",
        "gonca_gz_1stquar=gonca['gyroZ'].quantile(0.25)\n",
        "gonca_gz_3rdquar=gonca['gyroZ'].quantile(0.75)"
      ]
    },
    {
      "cell_type": "markdown",
      "metadata": {
        "id": "3bpoBpliFKaS"
      },
      "source": [
        "#####Driver Mehdi"
      ]
    },
    {
      "cell_type": "code",
      "execution_count": null,
      "metadata": {
        "id": "2RnL89na1M8L"
      },
      "outputs": [],
      "source": [
        "mehdi_ax_1stquar=mehdi['accelX'].quantile(0.25)\n",
        "mehdi_ax_3rdquar=mehdi['accelX'].quantile(0.75)\n",
        "mehdi_ay_1stquar=mehdi['accelY'].quantile(0.25)\n",
        "mehdi_ay_3rdquar=mehdi['accelY'].quantile(0.75)\n",
        "mehdi_az_1stquar=mehdi['accelZ'].quantile(0.25)\n",
        "mehdi_az_3rdquar=mehdi['accelZ'].quantile(0.75)\n",
        "mehdi_gx_1stquar=mehdi['gyroX'].quantile(0.25)\n",
        "mehdi_gx_3rdquar=mehdi['gyroX'].quantile(0.75)\n",
        "mehdi_gy_1stquar=mehdi['gyroY'].quantile(0.25)\n",
        "mehdi_gy_3rdquar=mehdi['gyroY'].quantile(0.75)\n",
        "mehdi_gz_1stquar=mehdi['gyroZ'].quantile(0.25)\n",
        "mehdi_gz_3rdquar=mehdi['gyroZ'].quantile(0.75)"
      ]
    },
    {
      "cell_type": "markdown",
      "metadata": {
        "id": "1NKKbwOiFN6m"
      },
      "source": [
        "#####Driver Berk"
      ]
    },
    {
      "cell_type": "code",
      "execution_count": null,
      "metadata": {
        "id": "GtG3PQ3-13tr"
      },
      "outputs": [],
      "source": [
        "berk_ax_1stquar=berk['accelX'].quantile(0.25)\n",
        "berk_ax_3rdquar=berk['accelX'].quantile(0.75)\n",
        "berk_ay_1stquar=berk['accelY'].quantile(0.25)\n",
        "berk_ay_3rdquar=berk['accelY'].quantile(0.75)\n",
        "berk_az_1stquar=berk['accelZ'].quantile(0.25)\n",
        "berk_az_3rdquar=berk['accelZ'].quantile(0.75)\n",
        "berk_gx_1stquar=berk['gyroX'].quantile(0.25)\n",
        "berk_gx_3rdquar=berk['gyroX'].quantile(0.75)\n",
        "berk_gy_1stquar=berk['gyroY'].quantile(0.25)\n",
        "berk_gy_3rdquar=berk['gyroY'].quantile(0.75)\n",
        "berk_gz_1stquar=berk['gyroZ'].quantile(0.25)\n",
        "berk_gz_3rdquar=berk['gyroZ'].quantile(0.75)"
      ]
    },
    {
      "cell_type": "markdown",
      "metadata": {
        "id": "3Q_otG2NFQgF"
      },
      "source": [
        "#####Driver Selin"
      ]
    },
    {
      "cell_type": "code",
      "execution_count": null,
      "metadata": {
        "id": "baFEGy5c2e3l"
      },
      "outputs": [],
      "source": [
        "selin_ax_1stquar=selin['accelX'].quantile(0.25)\n",
        "selin_ax_3rdquar=selin['accelX'].quantile(0.75)\n",
        "selin_ay_1stquar=selin['accelY'].quantile(0.25)\n",
        "selin_ay_3rdquar=selin['accelY'].quantile(0.75)\n",
        "selin_az_1stquar=selin['accelZ'].quantile(0.25)\n",
        "selin_az_3rdquar=selin['accelZ'].quantile(0.75)\n",
        "selin_gx_1stquar=selin['gyroX'].quantile(0.25)\n",
        "selin_gx_3rdquar=selin['gyroX'].quantile(0.75)\n",
        "selin_gy_1stquar=selin['gyroY'].quantile(0.25)\n",
        "selin_gy_3rdquar=selin['gyroY'].quantile(0.75)\n",
        "selin_gz_1stquar=selin['gyroZ'].quantile(0.25)\n",
        "selin_gz_3rdquar=selin['gyroZ'].quantile(0.75)"
      ]
    },
    {
      "cell_type": "markdown",
      "metadata": {
        "id": "Rr4xoTcEFVGM"
      },
      "source": [
        "###Creating a new Column 'Behaviour' for each Dataframe"
      ]
    },
    {
      "cell_type": "code",
      "execution_count": null,
      "metadata": {
        "id": "jcgEBoLS3FHr"
      },
      "outputs": [],
      "source": [
        "apo['Behaviour']=apo['class']\n",
        "onder['Behaviour']=onder['class']\n",
        "hurcan['Behaviour']=hurcan['class']\n",
        "gonca['Behaviour']=gonca['class']\n",
        "mehdi['Behaviour']=mehdi['class']\n",
        "berk['Behaviour']=berk['class']\n",
        "selin['Behaviour']=selin['class']"
      ]
    },
    {
      "cell_type": "markdown",
      "metadata": {
        "id": "ujDj9GV_Fd7L"
      },
      "source": [
        "#####This Column will be the target variable"
      ]
    },
    {
      "cell_type": "markdown",
      "metadata": {
        "id": "N6L_MssUFlZL"
      },
      "source": [
        "####Assigning the Value 'Normal' to 'Behaviour' Column"
      ]
    },
    {
      "cell_type": "code",
      "execution_count": null,
      "metadata": {
        "id": "AeHnLq-X5IQ1"
      },
      "outputs": [],
      "source": [
        "apo['Behaviour']='Normal'\n",
        "onder['Behaviour']='Normal'\n",
        "hurcan['Behaviour']='Normal'\n",
        "gonca['Behaviour']='Normal'\n",
        "mehdi['Behaviour']='Normal'\n",
        "berk['Behaviour']='Normal'\n",
        "selin['Behaviour']='Normal'"
      ]
    },
    {
      "cell_type": "markdown",
      "metadata": {
        "id": "ZGEsSWuCFzA5"
      },
      "source": [
        "###Classifying columns as 'Drowsy'"
      ]
    },
    {
      "cell_type": "code",
      "execution_count": null,
      "metadata": {
        "id": "Eh1NO9729f1A"
      },
      "outputs": [],
      "source": [
        "apo.loc[(apo['accelX']<apo_ax_1stquar) & (apo['accelY']<apo_ay_1stquar) & (apo['accelZ']<apo_az_1stquar) & (apo['gyroX']<apo_gx_1stquar) & (apo['gyroY']<apo_gy_1stquar) & (apo['gyroZ']<apo_gz_1stquar),'Behaviour']='Drowsy'\n",
        "onder.loc[(onder['accelX']<onder_ax_1stquar) & (onder['accelY']<onder_ay_1stquar) & (onder['accelZ']<onder_az_1stquar) & (onder['gyroX']<onder_gx_1stquar) & (onder['gyroY']<onder_gy_1stquar) & (onder['gyroZ']<onder_gz_1stquar),'Behaviour']='Drowsy'\n",
        "hurcan.loc[(hurcan['accelX']<hurcan_ax_1stquar) & (hurcan['accelY']<hurcan_ay_1stquar) & (hurcan['accelZ']<hurcan_az_1stquar) & (hurcan['gyroX']<hurcan_gx_1stquar) & (hurcan['gyroY']<hurcan_gy_1stquar) & (hurcan['gyroZ']<hurcan_gz_1stquar),'Behaviour']='Drowsy' \n",
        "gonca.loc[(gonca['accelX']<gonca_ax_1stquar) & (gonca['accelY']<gonca_ay_1stquar) & (gonca['accelZ']<gonca_az_1stquar) & (gonca['gyroX']<gonca_gx_1stquar) & (gonca['gyroY']<gonca_gy_1stquar) & (gonca['gyroZ']<gonca_gz_1stquar),'Behaviour']='Drowsy'\n",
        "mehdi.loc[(mehdi['accelX']<mehdi_ax_1stquar) & (mehdi['accelY']<mehdi_ay_1stquar) & (mehdi['accelZ']<mehdi_az_1stquar) & (mehdi['gyroX']<mehdi_gx_1stquar) & (mehdi['gyroY']<mehdi_gy_1stquar) & (mehdi['gyroZ']<mehdi_gz_1stquar) ,'Behaviour']='Drowsy'\n",
        "berk.loc[(berk['accelX']<berk_ax_1stquar) & (berk['accelY']<berk_ay_1stquar) & (berk['accelZ']<berk_az_1stquar) & (berk['gyroX']<berk_gx_1stquar) & (berk['gyroY']<berk_gy_1stquar) & (berk['gyroZ']<berk_gz_1stquar) ,'Behaviour']='Drowsy'\n",
        "selin.loc[(selin['accelX']<selin_ax_1stquar) & (selin['accelY']<selin_ay_1stquar) & (selin['accelZ']<selin_az_1stquar) & (selin['gyroX']<selin_gx_1stquar) & (selin['gyroY']<selin_gy_1stquar) & (selin['gyroZ']<selin_gz_1stquar),'Behaviour']='Drowsy'"
      ]
    },
    {
      "cell_type": "markdown",
      "metadata": {
        "id": "EHHbRCa-GATZ"
      },
      "source": [
        "##### If the value of each column is less than the respective first quartile (for the respective class) for a record, then the behaviour 'Drowsy' is assigned to it"
      ]
    },
    {
      "cell_type": "markdown",
      "metadata": {
        "id": "yd910qTnHVGe"
      },
      "source": [
        "###Classifying Columns as 'Aggressive'"
      ]
    },
    {
      "cell_type": "code",
      "execution_count": null,
      "metadata": {
        "id": "m5OIuR8ZETol"
      },
      "outputs": [],
      "source": [
        "apo.loc[(apo['accelX']>apo_ax_3rdquar) | (apo['accelY']>apo_ay_3rdquar) | (apo['accelZ']>apo_az_3rdquar) | (apo['gyroX']>apo_gx_3rdquar) | (apo['gyroY']>apo_gy_3rdquar) | (apo['gyroZ']>apo_gz_3rdquar),'Behaviour']='Aggressive'\n",
        "onder.loc[(onder['accelX']>onder_ax_3rdquar) | (onder['accelY']>onder_ay_3rdquar) | (onder['accelZ']>onder_az_3rdquar) | (onder['gyroX']>onder_gx_3rdquar) | (onder['gyroY']>onder_gy_3rdquar) | (onder['gyroZ']>onder_gz_3rdquar),'Behaviour']='Aggressive'\n",
        "hurcan.loc[(hurcan['accelX']>hurcan_ax_3rdquar) | (hurcan['accelY']>hurcan_ay_3rdquar) | (hurcan['accelZ']>hurcan_az_3rdquar) | (hurcan['gyroX']>hurcan_gx_3rdquar) | (hurcan['gyroY']>hurcan_gy_3rdquar) | (hurcan['gyroZ']>hurcan_gz_3rdquar),'Behaviour']='Aggressive'\n",
        "gonca.loc[(gonca['accelX']>gonca_ax_3rdquar) | (gonca['accelY']>gonca_ay_3rdquar) | (gonca['accelZ']>gonca_az_3rdquar) | (gonca['gyroX']>gonca_gx_3rdquar) | (gonca['gyroY']>gonca_gy_3rdquar) | (gonca['gyroZ']>gonca_gz_3rdquar),'Behaviour']='Aggressive'\n",
        "mehdi.loc[(mehdi['accelX']>mehdi_ax_3rdquar) | (mehdi['accelY']>mehdi_ay_3rdquar) | (mehdi['accelZ']>mehdi_az_3rdquar) | (mehdi['gyroX']>mehdi_gx_3rdquar) | (mehdi['gyroY']>mehdi_gy_3rdquar) | (mehdi['gyroZ']>mehdi_gz_3rdquar) ,'Behaviour']='Aggressive'\n",
        "berk.loc[(berk['accelX']>berk_ax_3rdquar) | (berk['accelY']>berk_ay_3rdquar) | (berk['accelZ']>berk_az_3rdquar) | (berk['gyroX']>berk_gx_3rdquar) | (berk['gyroY']>berk_gy_3rdquar) | (berk['gyroZ']>berk_gz_3rdquar) ,'Behaviour']='Aggressive'\n",
        "selin.loc[(selin['accelX']>selin_ax_3rdquar) | (selin['accelY']>selin_ay_3rdquar) | (selin['accelZ']>selin_az_3rdquar) | (selin['gyroX']>selin_gx_3rdquar) | (selin['gyroY']>selin_gy_3rdquar) | (selin['gyroZ']>selin_gz_3rdquar),'Behaviour']='Aggressive'"
      ]
    },
    {
      "cell_type": "markdown",
      "metadata": {
        "id": "ZXHZ7ve9Gew4"
      },
      "source": [
        "#####If the value of any column is more than the respective third quartile (for the respective class) for a record, then the behaviour 'Aggressive' is assigned to it"
      ]
    },
    {
      "cell_type": "markdown",
      "metadata": {
        "id": "-KOplY7JHcis"
      },
      "source": [
        "### Conactinating the Dataframes for each Class to a Single Dataframe Result"
      ]
    },
    {
      "cell_type": "code",
      "execution_count": null,
      "metadata": {
        "id": "i9wYgFB0cN3a"
      },
      "outputs": [],
      "source": [
        "frames=[apo,onder,hurcan,gonca,mehdi,berk,selin]\n",
        "result=pd.concat(frames)"
      ]
    },
    {
      "cell_type": "code",
      "execution_count": null,
      "metadata": {
        "id": "jZc2BX8PdP4E"
      },
      "outputs": [],
      "source": [
        "result.reset_index(drop=True,inplace=True) # Resetting the index of the dataframe"
      ]
    },
    {
      "cell_type": "code",
      "execution_count": null,
      "metadata": {
        "colab": {
          "base_uri": "https://localhost:8080/",
          "height": 423
        },
        "id": "Vgvikmj1daBp",
        "outputId": "e3c9ccd6-58b0-42c6-af77-aa53fe061902"
      },
      "outputs": [
        {
          "output_type": "execute_result",
          "data": {
            "text/html": [
              "\n",
              "  <div id=\"df-f18270a9-eb3c-49e2-9821-33e8ff419760\">\n",
              "    <div class=\"colab-df-container\">\n",
              "      <div>\n",
              "<style scoped>\n",
              "    .dataframe tbody tr th:only-of-type {\n",
              "        vertical-align: middle;\n",
              "    }\n",
              "\n",
              "    .dataframe tbody tr th {\n",
              "        vertical-align: top;\n",
              "    }\n",
              "\n",
              "    .dataframe thead th {\n",
              "        text-align: right;\n",
              "    }\n",
              "</style>\n",
              "<table border=\"1\" class=\"dataframe\">\n",
              "  <thead>\n",
              "    <tr style=\"text-align: right;\">\n",
              "      <th></th>\n",
              "      <th>accelX</th>\n",
              "      <th>accelY</th>\n",
              "      <th>accelZ</th>\n",
              "      <th>class</th>\n",
              "      <th>gyroX</th>\n",
              "      <th>gyroY</th>\n",
              "      <th>gyroZ</th>\n",
              "      <th>Behaviour</th>\n",
              "    </tr>\n",
              "  </thead>\n",
              "  <tbody>\n",
              "    <tr>\n",
              "      <th>0</th>\n",
              "      <td>-0.244069</td>\n",
              "      <td>8.094744e-02</td>\n",
              "      <td>9.807350</td>\n",
              "      <td>apo</td>\n",
              "      <td>0.000000</td>\n",
              "      <td>0.000000</td>\n",
              "      <td>0.000000</td>\n",
              "      <td>Normal</td>\n",
              "    </tr>\n",
              "    <tr>\n",
              "      <th>1</th>\n",
              "      <td>-0.206027</td>\n",
              "      <td>-9.387732e-07</td>\n",
              "      <td>9.807837</td>\n",
              "      <td>apo</td>\n",
              "      <td>0.000000</td>\n",
              "      <td>0.000000</td>\n",
              "      <td>0.000000</td>\n",
              "      <td>Normal</td>\n",
              "    </tr>\n",
              "    <tr>\n",
              "      <th>2</th>\n",
              "      <td>-0.226992</td>\n",
              "      <td>-3.950313e-02</td>\n",
              "      <td>9.807553</td>\n",
              "      <td>apo</td>\n",
              "      <td>0.000000</td>\n",
              "      <td>0.000000</td>\n",
              "      <td>0.000000</td>\n",
              "      <td>Normal</td>\n",
              "    </tr>\n",
              "    <tr>\n",
              "      <th>3</th>\n",
              "      <td>-0.225045</td>\n",
              "      <td>4.047326e-02</td>\n",
              "      <td>9.807437</td>\n",
              "      <td>apo</td>\n",
              "      <td>0.000000</td>\n",
              "      <td>0.000000</td>\n",
              "      <td>0.000000</td>\n",
              "      <td>Normal</td>\n",
              "    </tr>\n",
              "    <tr>\n",
              "      <th>4</th>\n",
              "      <td>-0.226992</td>\n",
              "      <td>-3.950313e-02</td>\n",
              "      <td>9.807553</td>\n",
              "      <td>apo</td>\n",
              "      <td>0.000000</td>\n",
              "      <td>0.000000</td>\n",
              "      <td>0.000000</td>\n",
              "      <td>Normal</td>\n",
              "    </tr>\n",
              "    <tr>\n",
              "      <th>...</th>\n",
              "      <td>...</td>\n",
              "      <td>...</td>\n",
              "      <td>...</td>\n",
              "      <td>...</td>\n",
              "      <td>...</td>\n",
              "      <td>...</td>\n",
              "      <td>...</td>\n",
              "      <td>...</td>\n",
              "    </tr>\n",
              "    <tr>\n",
              "      <th>99353</th>\n",
              "      <td>-1.511383</td>\n",
              "      <td>2.782583e-02</td>\n",
              "      <td>9.805461</td>\n",
              "      <td>selin</td>\n",
              "      <td>0.008643</td>\n",
              "      <td>-0.001575</td>\n",
              "      <td>-0.005514</td>\n",
              "      <td>Normal</td>\n",
              "    </tr>\n",
              "    <tr>\n",
              "      <th>99354</th>\n",
              "      <td>-1.494224</td>\n",
              "      <td>1.084785e-01</td>\n",
              "      <td>9.805621</td>\n",
              "      <td>selin</td>\n",
              "      <td>0.007890</td>\n",
              "      <td>-0.001658</td>\n",
              "      <td>-0.005501</td>\n",
              "      <td>Aggressive</td>\n",
              "    </tr>\n",
              "    <tr>\n",
              "      <th>99355</th>\n",
              "      <td>-1.523028</td>\n",
              "      <td>-2.127216e-01</td>\n",
              "      <td>9.804395</td>\n",
              "      <td>selin</td>\n",
              "      <td>0.005966</td>\n",
              "      <td>-0.001740</td>\n",
              "      <td>-0.005473</td>\n",
              "      <td>Normal</td>\n",
              "    </tr>\n",
              "    <tr>\n",
              "      <th>99356</th>\n",
              "      <td>-1.511467</td>\n",
              "      <td>2.783418e-02</td>\n",
              "      <td>9.805650</td>\n",
              "      <td>selin</td>\n",
              "      <td>0.004825</td>\n",
              "      <td>-0.001693</td>\n",
              "      <td>-0.005456</td>\n",
              "      <td>Normal</td>\n",
              "    </tr>\n",
              "    <tr>\n",
              "      <th>99357</th>\n",
              "      <td>-1.434334</td>\n",
              "      <td>1.105895e-01</td>\n",
              "      <td>9.805491</td>\n",
              "      <td>selin</td>\n",
              "      <td>0.002422</td>\n",
              "      <td>-0.001670</td>\n",
              "      <td>-0.005421</td>\n",
              "      <td>Aggressive</td>\n",
              "    </tr>\n",
              "  </tbody>\n",
              "</table>\n",
              "<p>99358 rows × 8 columns</p>\n",
              "</div>\n",
              "      <button class=\"colab-df-convert\" onclick=\"convertToInteractive('df-f18270a9-eb3c-49e2-9821-33e8ff419760')\"\n",
              "              title=\"Convert this dataframe to an interactive table.\"\n",
              "              style=\"display:none;\">\n",
              "        \n",
              "  <svg xmlns=\"http://www.w3.org/2000/svg\" height=\"24px\"viewBox=\"0 0 24 24\"\n",
              "       width=\"24px\">\n",
              "    <path d=\"M0 0h24v24H0V0z\" fill=\"none\"/>\n",
              "    <path d=\"M18.56 5.44l.94 2.06.94-2.06 2.06-.94-2.06-.94-.94-2.06-.94 2.06-2.06.94zm-11 1L8.5 8.5l.94-2.06 2.06-.94-2.06-.94L8.5 2.5l-.94 2.06-2.06.94zm10 10l.94 2.06.94-2.06 2.06-.94-2.06-.94-.94-2.06-.94 2.06-2.06.94z\"/><path d=\"M17.41 7.96l-1.37-1.37c-.4-.4-.92-.59-1.43-.59-.52 0-1.04.2-1.43.59L10.3 9.45l-7.72 7.72c-.78.78-.78 2.05 0 2.83L4 21.41c.39.39.9.59 1.41.59.51 0 1.02-.2 1.41-.59l7.78-7.78 2.81-2.81c.8-.78.8-2.07 0-2.86zM5.41 20L4 18.59l7.72-7.72 1.47 1.35L5.41 20z\"/>\n",
              "  </svg>\n",
              "      </button>\n",
              "      \n",
              "  <style>\n",
              "    .colab-df-container {\n",
              "      display:flex;\n",
              "      flex-wrap:wrap;\n",
              "      gap: 12px;\n",
              "    }\n",
              "\n",
              "    .colab-df-convert {\n",
              "      background-color: #E8F0FE;\n",
              "      border: none;\n",
              "      border-radius: 50%;\n",
              "      cursor: pointer;\n",
              "      display: none;\n",
              "      fill: #1967D2;\n",
              "      height: 32px;\n",
              "      padding: 0 0 0 0;\n",
              "      width: 32px;\n",
              "    }\n",
              "\n",
              "    .colab-df-convert:hover {\n",
              "      background-color: #E2EBFA;\n",
              "      box-shadow: 0px 1px 2px rgba(60, 64, 67, 0.3), 0px 1px 3px 1px rgba(60, 64, 67, 0.15);\n",
              "      fill: #174EA6;\n",
              "    }\n",
              "\n",
              "    [theme=dark] .colab-df-convert {\n",
              "      background-color: #3B4455;\n",
              "      fill: #D2E3FC;\n",
              "    }\n",
              "\n",
              "    [theme=dark] .colab-df-convert:hover {\n",
              "      background-color: #434B5C;\n",
              "      box-shadow: 0px 1px 3px 1px rgba(0, 0, 0, 0.15);\n",
              "      filter: drop-shadow(0px 1px 2px rgba(0, 0, 0, 0.3));\n",
              "      fill: #FFFFFF;\n",
              "    }\n",
              "  </style>\n",
              "\n",
              "      <script>\n",
              "        const buttonEl =\n",
              "          document.querySelector('#df-f18270a9-eb3c-49e2-9821-33e8ff419760 button.colab-df-convert');\n",
              "        buttonEl.style.display =\n",
              "          google.colab.kernel.accessAllowed ? 'block' : 'none';\n",
              "\n",
              "        async function convertToInteractive(key) {\n",
              "          const element = document.querySelector('#df-f18270a9-eb3c-49e2-9821-33e8ff419760');\n",
              "          const dataTable =\n",
              "            await google.colab.kernel.invokeFunction('convertToInteractive',\n",
              "                                                     [key], {});\n",
              "          if (!dataTable) return;\n",
              "\n",
              "          const docLinkHtml = 'Like what you see? Visit the ' +\n",
              "            '<a target=\"_blank\" href=https://colab.research.google.com/notebooks/data_table.ipynb>data table notebook</a>'\n",
              "            + ' to learn more about interactive tables.';\n",
              "          element.innerHTML = '';\n",
              "          dataTable['output_type'] = 'display_data';\n",
              "          await google.colab.output.renderOutput(dataTable, element);\n",
              "          const docLink = document.createElement('div');\n",
              "          docLink.innerHTML = docLinkHtml;\n",
              "          element.appendChild(docLink);\n",
              "        }\n",
              "      </script>\n",
              "    </div>\n",
              "  </div>\n",
              "  "
            ],
            "text/plain": [
              "         accelX        accelY    accelZ  ...     gyroY     gyroZ   Behaviour\n",
              "0     -0.244069  8.094744e-02  9.807350  ...  0.000000  0.000000      Normal\n",
              "1     -0.206027 -9.387732e-07  9.807837  ...  0.000000  0.000000      Normal\n",
              "2     -0.226992 -3.950313e-02  9.807553  ...  0.000000  0.000000      Normal\n",
              "3     -0.225045  4.047326e-02  9.807437  ...  0.000000  0.000000      Normal\n",
              "4     -0.226992 -3.950313e-02  9.807553  ...  0.000000  0.000000      Normal\n",
              "...         ...           ...       ...  ...       ...       ...         ...\n",
              "99353 -1.511383  2.782583e-02  9.805461  ... -0.001575 -0.005514      Normal\n",
              "99354 -1.494224  1.084785e-01  9.805621  ... -0.001658 -0.005501  Aggressive\n",
              "99355 -1.523028 -2.127216e-01  9.804395  ... -0.001740 -0.005473      Normal\n",
              "99356 -1.511467  2.783418e-02  9.805650  ... -0.001693 -0.005456      Normal\n",
              "99357 -1.434334  1.105895e-01  9.805491  ... -0.001670 -0.005421  Aggressive\n",
              "\n",
              "[99358 rows x 8 columns]"
            ]
          },
          "metadata": {},
          "execution_count": 23
        }
      ],
      "source": [
        "result # A glimpse at the dataframe"
      ]
    },
    {
      "cell_type": "markdown",
      "metadata": {
        "id": "I-LlVRedICqv"
      },
      "source": [
        "### Encoding the DataFrame"
      ]
    },
    {
      "cell_type": "code",
      "execution_count": null,
      "metadata": {
        "id": "ireiNenMdlIA"
      },
      "outputs": [],
      "source": [
        "a1=result['class'].unique()\n",
        "a2=result['Behaviour'].unique()"
      ]
    },
    {
      "cell_type": "markdown",
      "metadata": {
        "id": "uf-M4vPBINqa"
      },
      "source": [
        "#####The 'Object' type columns are made 'Numerical' type by Encoding"
      ]
    },
    {
      "cell_type": "code",
      "execution_count": null,
      "metadata": {
        "id": "ZbubwZ0egAlD"
      },
      "outputs": [],
      "source": [
        "encoder=preprocessing.LabelEncoder()\n",
        "result['class']=encoder.fit_transform(result['class'])\n",
        "result['Behaviour']=encoder.fit_transform(result['Behaviour'])"
      ]
    },
    {
      "cell_type": "code",
      "execution_count": null,
      "metadata": {
        "colab": {
          "base_uri": "https://localhost:8080/",
          "height": 423
        },
        "id": "NZsnf7RYg4fy",
        "outputId": "6ab24efd-3de4-410a-d77e-970de8ce8bad"
      },
      "outputs": [
        {
          "output_type": "execute_result",
          "data": {
            "text/html": [
              "\n",
              "  <div id=\"df-aa4d5ab1-efaf-4623-950a-64fcbce27b1c\">\n",
              "    <div class=\"colab-df-container\">\n",
              "      <div>\n",
              "<style scoped>\n",
              "    .dataframe tbody tr th:only-of-type {\n",
              "        vertical-align: middle;\n",
              "    }\n",
              "\n",
              "    .dataframe tbody tr th {\n",
              "        vertical-align: top;\n",
              "    }\n",
              "\n",
              "    .dataframe thead th {\n",
              "        text-align: right;\n",
              "    }\n",
              "</style>\n",
              "<table border=\"1\" class=\"dataframe\">\n",
              "  <thead>\n",
              "    <tr style=\"text-align: right;\">\n",
              "      <th></th>\n",
              "      <th>accelX</th>\n",
              "      <th>accelY</th>\n",
              "      <th>accelZ</th>\n",
              "      <th>class</th>\n",
              "      <th>gyroX</th>\n",
              "      <th>gyroY</th>\n",
              "      <th>gyroZ</th>\n",
              "      <th>Behaviour</th>\n",
              "    </tr>\n",
              "  </thead>\n",
              "  <tbody>\n",
              "    <tr>\n",
              "      <th>0</th>\n",
              "      <td>-0.244069</td>\n",
              "      <td>8.094744e-02</td>\n",
              "      <td>9.807350</td>\n",
              "      <td>0</td>\n",
              "      <td>0.000000</td>\n",
              "      <td>0.000000</td>\n",
              "      <td>0.000000</td>\n",
              "      <td>2</td>\n",
              "    </tr>\n",
              "    <tr>\n",
              "      <th>1</th>\n",
              "      <td>-0.206027</td>\n",
              "      <td>-9.387732e-07</td>\n",
              "      <td>9.807837</td>\n",
              "      <td>0</td>\n",
              "      <td>0.000000</td>\n",
              "      <td>0.000000</td>\n",
              "      <td>0.000000</td>\n",
              "      <td>2</td>\n",
              "    </tr>\n",
              "    <tr>\n",
              "      <th>2</th>\n",
              "      <td>-0.226992</td>\n",
              "      <td>-3.950313e-02</td>\n",
              "      <td>9.807553</td>\n",
              "      <td>0</td>\n",
              "      <td>0.000000</td>\n",
              "      <td>0.000000</td>\n",
              "      <td>0.000000</td>\n",
              "      <td>2</td>\n",
              "    </tr>\n",
              "    <tr>\n",
              "      <th>3</th>\n",
              "      <td>-0.225045</td>\n",
              "      <td>4.047326e-02</td>\n",
              "      <td>9.807437</td>\n",
              "      <td>0</td>\n",
              "      <td>0.000000</td>\n",
              "      <td>0.000000</td>\n",
              "      <td>0.000000</td>\n",
              "      <td>2</td>\n",
              "    </tr>\n",
              "    <tr>\n",
              "      <th>4</th>\n",
              "      <td>-0.226992</td>\n",
              "      <td>-3.950313e-02</td>\n",
              "      <td>9.807553</td>\n",
              "      <td>0</td>\n",
              "      <td>0.000000</td>\n",
              "      <td>0.000000</td>\n",
              "      <td>0.000000</td>\n",
              "      <td>2</td>\n",
              "    </tr>\n",
              "    <tr>\n",
              "      <th>...</th>\n",
              "      <td>...</td>\n",
              "      <td>...</td>\n",
              "      <td>...</td>\n",
              "      <td>...</td>\n",
              "      <td>...</td>\n",
              "      <td>...</td>\n",
              "      <td>...</td>\n",
              "      <td>...</td>\n",
              "    </tr>\n",
              "    <tr>\n",
              "      <th>99353</th>\n",
              "      <td>-1.511383</td>\n",
              "      <td>2.782583e-02</td>\n",
              "      <td>9.805461</td>\n",
              "      <td>6</td>\n",
              "      <td>0.008643</td>\n",
              "      <td>-0.001575</td>\n",
              "      <td>-0.005514</td>\n",
              "      <td>2</td>\n",
              "    </tr>\n",
              "    <tr>\n",
              "      <th>99354</th>\n",
              "      <td>-1.494224</td>\n",
              "      <td>1.084785e-01</td>\n",
              "      <td>9.805621</td>\n",
              "      <td>6</td>\n",
              "      <td>0.007890</td>\n",
              "      <td>-0.001658</td>\n",
              "      <td>-0.005501</td>\n",
              "      <td>0</td>\n",
              "    </tr>\n",
              "    <tr>\n",
              "      <th>99355</th>\n",
              "      <td>-1.523028</td>\n",
              "      <td>-2.127216e-01</td>\n",
              "      <td>9.804395</td>\n",
              "      <td>6</td>\n",
              "      <td>0.005966</td>\n",
              "      <td>-0.001740</td>\n",
              "      <td>-0.005473</td>\n",
              "      <td>2</td>\n",
              "    </tr>\n",
              "    <tr>\n",
              "      <th>99356</th>\n",
              "      <td>-1.511467</td>\n",
              "      <td>2.783418e-02</td>\n",
              "      <td>9.805650</td>\n",
              "      <td>6</td>\n",
              "      <td>0.004825</td>\n",
              "      <td>-0.001693</td>\n",
              "      <td>-0.005456</td>\n",
              "      <td>2</td>\n",
              "    </tr>\n",
              "    <tr>\n",
              "      <th>99357</th>\n",
              "      <td>-1.434334</td>\n",
              "      <td>1.105895e-01</td>\n",
              "      <td>9.805491</td>\n",
              "      <td>6</td>\n",
              "      <td>0.002422</td>\n",
              "      <td>-0.001670</td>\n",
              "      <td>-0.005421</td>\n",
              "      <td>0</td>\n",
              "    </tr>\n",
              "  </tbody>\n",
              "</table>\n",
              "<p>99358 rows × 8 columns</p>\n",
              "</div>\n",
              "      <button class=\"colab-df-convert\" onclick=\"convertToInteractive('df-aa4d5ab1-efaf-4623-950a-64fcbce27b1c')\"\n",
              "              title=\"Convert this dataframe to an interactive table.\"\n",
              "              style=\"display:none;\">\n",
              "        \n",
              "  <svg xmlns=\"http://www.w3.org/2000/svg\" height=\"24px\"viewBox=\"0 0 24 24\"\n",
              "       width=\"24px\">\n",
              "    <path d=\"M0 0h24v24H0V0z\" fill=\"none\"/>\n",
              "    <path d=\"M18.56 5.44l.94 2.06.94-2.06 2.06-.94-2.06-.94-.94-2.06-.94 2.06-2.06.94zm-11 1L8.5 8.5l.94-2.06 2.06-.94-2.06-.94L8.5 2.5l-.94 2.06-2.06.94zm10 10l.94 2.06.94-2.06 2.06-.94-2.06-.94-.94-2.06-.94 2.06-2.06.94z\"/><path d=\"M17.41 7.96l-1.37-1.37c-.4-.4-.92-.59-1.43-.59-.52 0-1.04.2-1.43.59L10.3 9.45l-7.72 7.72c-.78.78-.78 2.05 0 2.83L4 21.41c.39.39.9.59 1.41.59.51 0 1.02-.2 1.41-.59l7.78-7.78 2.81-2.81c.8-.78.8-2.07 0-2.86zM5.41 20L4 18.59l7.72-7.72 1.47 1.35L5.41 20z\"/>\n",
              "  </svg>\n",
              "      </button>\n",
              "      \n",
              "  <style>\n",
              "    .colab-df-container {\n",
              "      display:flex;\n",
              "      flex-wrap:wrap;\n",
              "      gap: 12px;\n",
              "    }\n",
              "\n",
              "    .colab-df-convert {\n",
              "      background-color: #E8F0FE;\n",
              "      border: none;\n",
              "      border-radius: 50%;\n",
              "      cursor: pointer;\n",
              "      display: none;\n",
              "      fill: #1967D2;\n",
              "      height: 32px;\n",
              "      padding: 0 0 0 0;\n",
              "      width: 32px;\n",
              "    }\n",
              "\n",
              "    .colab-df-convert:hover {\n",
              "      background-color: #E2EBFA;\n",
              "      box-shadow: 0px 1px 2px rgba(60, 64, 67, 0.3), 0px 1px 3px 1px rgba(60, 64, 67, 0.15);\n",
              "      fill: #174EA6;\n",
              "    }\n",
              "\n",
              "    [theme=dark] .colab-df-convert {\n",
              "      background-color: #3B4455;\n",
              "      fill: #D2E3FC;\n",
              "    }\n",
              "\n",
              "    [theme=dark] .colab-df-convert:hover {\n",
              "      background-color: #434B5C;\n",
              "      box-shadow: 0px 1px 3px 1px rgba(0, 0, 0, 0.15);\n",
              "      filter: drop-shadow(0px 1px 2px rgba(0, 0, 0, 0.3));\n",
              "      fill: #FFFFFF;\n",
              "    }\n",
              "  </style>\n",
              "\n",
              "      <script>\n",
              "        const buttonEl =\n",
              "          document.querySelector('#df-aa4d5ab1-efaf-4623-950a-64fcbce27b1c button.colab-df-convert');\n",
              "        buttonEl.style.display =\n",
              "          google.colab.kernel.accessAllowed ? 'block' : 'none';\n",
              "\n",
              "        async function convertToInteractive(key) {\n",
              "          const element = document.querySelector('#df-aa4d5ab1-efaf-4623-950a-64fcbce27b1c');\n",
              "          const dataTable =\n",
              "            await google.colab.kernel.invokeFunction('convertToInteractive',\n",
              "                                                     [key], {});\n",
              "          if (!dataTable) return;\n",
              "\n",
              "          const docLinkHtml = 'Like what you see? Visit the ' +\n",
              "            '<a target=\"_blank\" href=https://colab.research.google.com/notebooks/data_table.ipynb>data table notebook</a>'\n",
              "            + ' to learn more about interactive tables.';\n",
              "          element.innerHTML = '';\n",
              "          dataTable['output_type'] = 'display_data';\n",
              "          await google.colab.output.renderOutput(dataTable, element);\n",
              "          const docLink = document.createElement('div');\n",
              "          docLink.innerHTML = docLinkHtml;\n",
              "          element.appendChild(docLink);\n",
              "        }\n",
              "      </script>\n",
              "    </div>\n",
              "  </div>\n",
              "  "
            ],
            "text/plain": [
              "         accelX        accelY    accelZ  ...     gyroY     gyroZ  Behaviour\n",
              "0     -0.244069  8.094744e-02  9.807350  ...  0.000000  0.000000          2\n",
              "1     -0.206027 -9.387732e-07  9.807837  ...  0.000000  0.000000          2\n",
              "2     -0.226992 -3.950313e-02  9.807553  ...  0.000000  0.000000          2\n",
              "3     -0.225045  4.047326e-02  9.807437  ...  0.000000  0.000000          2\n",
              "4     -0.226992 -3.950313e-02  9.807553  ...  0.000000  0.000000          2\n",
              "...         ...           ...       ...  ...       ...       ...        ...\n",
              "99353 -1.511383  2.782583e-02  9.805461  ... -0.001575 -0.005514          2\n",
              "99354 -1.494224  1.084785e-01  9.805621  ... -0.001658 -0.005501          0\n",
              "99355 -1.523028 -2.127216e-01  9.804395  ... -0.001740 -0.005473          2\n",
              "99356 -1.511467  2.783418e-02  9.805650  ... -0.001693 -0.005456          2\n",
              "99357 -1.434334  1.105895e-01  9.805491  ... -0.001670 -0.005421          0\n",
              "\n",
              "[99358 rows x 8 columns]"
            ]
          },
          "metadata": {},
          "execution_count": 26
        }
      ],
      "source": [
        "result"
      ]
    },
    {
      "cell_type": "markdown",
      "metadata": {
        "id": "5o6-weAfIcQj"
      },
      "source": [
        "#####The Encoded Features"
      ]
    },
    {
      "cell_type": "code",
      "execution_count": null,
      "metadata": {
        "colab": {
          "base_uri": "https://localhost:8080/"
        },
        "id": "Zce26KQVg-No",
        "outputId": "a8f5f9cd-2501-4560-8f38-2a45f4f17094"
      },
      "outputs": [
        {
          "output_type": "stream",
          "name": "stdout",
          "text": [
            "{'apo': 0, 'onder': 5, 'hurcan': 3, 'gonca': 2, 'mehdi': 4, 'berk': 1, 'selin': 6}\n",
            "{'Normal': 2, 'Aggressive': 0, 'Drowsy': 1}\n"
          ]
        }
      ],
      "source": [
        "b1=result['class'].unique()\n",
        "b2=result['Behaviour'].unique()\n",
        "classes={}\n",
        "Behaviour={}\n",
        "for i in range(len(a1)):\n",
        "    classes[a1[i]]=b1[i]\n",
        "for i in range(len(a2)):\n",
        "    Behaviour[a2[i]]=b2[i]\n",
        "print(classes)\n",
        "print(Behaviour)"
      ]
    },
    {
      "cell_type": "markdown",
      "metadata": {
        "id": "5SWIhDmdIlXX"
      },
      "source": [
        "#####The original values of the class and Behaviour columns aginst their encoded values"
      ]
    },
    {
      "cell_type": "markdown",
      "metadata": {
        "id": "A-hP23lrI5rQ"
      },
      "source": [
        "# Applying Machine Learning Models"
      ]
    },
    {
      "cell_type": "markdown",
      "metadata": {
        "id": "gDv0J1viI_zS"
      },
      "source": [
        "###Performing train_test_split"
      ]
    },
    {
      "cell_type": "code",
      "execution_count": null,
      "metadata": {
        "id": "r_IsrATYh-Nj"
      },
      "outputs": [],
      "source": [
        "data=result.values # Converts DataFrame to array which can be taken as argument in train_test_split"
      ]
    },
    {
      "cell_type": "code",
      "execution_count": null,
      "metadata": {
        "colab": {
          "base_uri": "https://localhost:8080/"
        },
        "id": "gdQ0Pii1kqw7",
        "outputId": "08b197a5-4314-435b-ed8b-7c5b0e0b1aa7"
      },
      "outputs": [
        {
          "output_type": "stream",
          "name": "stdout",
          "text": [
            "(99358, 7) (99358,)\n",
            "(66569, 7) (32789, 7) (66569,) (32789,)\n"
          ]
        }
      ],
      "source": [
        "# split into inputs and outputs\n",
        "X, y = data[:, :-1], data[:, -1]\n",
        "print(X.shape, y.shape)\n",
        "# split into train test sets\n",
        "X_train, X_test, y_train, y_test = train_test_split(X, y, test_size=0.33, random_state=1)\n",
        "print(X_train.shape, X_test.shape, y_train.shape, y_test.shape)"
      ]
    },
    {
      "cell_type": "markdown",
      "metadata": {
        "id": "FqTnl_I4JcdN"
      },
      "source": [
        "- X_train and y_train will be used to train the models\n",
        "- X_test will be used to test the models \n",
        "- y_test will be used to calculate the accuracy of the models"
      ]
    },
    {
      "cell_type": "markdown",
      "metadata": {
        "id": "0E2KhHgbKBiw"
      },
      "source": [
        "## Random Forest Classifier"
      ]
    },
    {
      "cell_type": "code",
      "execution_count": null,
      "metadata": {
        "colab": {
          "base_uri": "https://localhost:8080/"
        },
        "id": "4Ec8eaTqlEku",
        "outputId": "37d144f9-70e3-422c-d9f7-3c0ab6665969"
      },
      "outputs": [
        {
          "output_type": "execute_result",
          "data": {
            "text/plain": [
              "RandomForestClassifier(random_state=1)"
            ]
          },
          "metadata": {},
          "execution_count": 30
        }
      ],
      "source": [
        "# fit the model\n",
        "model = RandomForestClassifier(random_state=1)\n",
        "model.fit(X_train, y_train)"
      ]
    },
    {
      "cell_type": "code",
      "execution_count": null,
      "metadata": {
        "id": "j0HnkqKElP73"
      },
      "outputs": [],
      "source": [
        "# make predictions\n",
        "yhat = model.predict(X_test)"
      ]
    },
    {
      "cell_type": "code",
      "execution_count": null,
      "metadata": {
        "colab": {
          "base_uri": "https://localhost:8080/"
        },
        "id": "eGixR5xKlUbo",
        "outputId": "93cd60e9-f49b-42f8-de8a-e47407508aca"
      },
      "outputs": [
        {
          "output_type": "stream",
          "name": "stdout",
          "text": [
            "Accuracy: 99.396\n"
          ]
        }
      ],
      "source": [
        "# evaluate predictions\n",
        "acc = accuracy_score(y_test, yhat)\n",
        "accuracy=acc*100\n",
        "print('Accuracy: %.3f' % accuracy)"
      ]
    },
    {
      "cell_type": "markdown",
      "metadata": {
        "id": "NtKiDFlJKKPc"
      },
      "source": [
        "## Gaussian Naive Bayes Model"
      ]
    },
    {
      "cell_type": "code",
      "execution_count": null,
      "metadata": {
        "colab": {
          "base_uri": "https://localhost:8080/"
        },
        "id": "3cwdV2jcldPQ",
        "outputId": "2fd08cb9-b08d-4d57-c667-e527b6597e0b"
      },
      "outputs": [
        {
          "output_type": "execute_result",
          "data": {
            "text/plain": [
              "GaussianNB()"
            ]
          },
          "metadata": {},
          "execution_count": 33
        }
      ],
      "source": [
        "# training the model on training set\n",
        "gnb = GaussianNB()\n",
        "gnb.fit(X_train, y_train)"
      ]
    },
    {
      "cell_type": "code",
      "execution_count": null,
      "metadata": {
        "id": "0Uf2TjJfmIdK"
      },
      "outputs": [],
      "source": [
        "# making predictions on the testing set\n",
        "y_pred = gnb.predict(X_test)"
      ]
    },
    {
      "cell_type": "code",
      "execution_count": null,
      "metadata": {
        "colab": {
          "base_uri": "https://localhost:8080/"
        },
        "id": "mztl8GjumMIO",
        "outputId": "3ed93ddf-8be0-48ed-c54c-3d7db6c15fb1"
      },
      "outputs": [
        {
          "output_type": "stream",
          "name": "stdout",
          "text": [
            "Gaussian Naive Bayes model accuracy(in %): 36.50614535362469\n"
          ]
        }
      ],
      "source": [
        "# comparing actual response values (y_test) with predicted response values (y_pred)\n",
        "print(\"Gaussian Naive Bayes model accuracy(in %):\",accuracy_score(y_test, y_pred)*100)"
      ]
    },
    {
      "cell_type": "markdown",
      "metadata": {
        "id": "AlLiGeTJKUPi"
      },
      "source": [
        "## Logistic Regresssion Model"
      ]
    },
    {
      "cell_type": "code",
      "execution_count": null,
      "metadata": {
        "colab": {
          "base_uri": "https://localhost:8080/"
        },
        "id": "oGF2NQBlmcwS",
        "outputId": "f10fbb66-0488-4aa3-e377-36098076f269"
      },
      "outputs": [
        {
          "output_type": "execute_result",
          "data": {
            "text/plain": [
              "LogisticRegression()"
            ]
          },
          "metadata": {},
          "execution_count": 36
        }
      ],
      "source": [
        "# instantiate the model (using the default parameters)\n",
        "logreg = LogisticRegression()\n",
        "# fit the model with data\n",
        "logreg.fit(X_train,y_train)"
      ]
    },
    {
      "cell_type": "code",
      "execution_count": null,
      "metadata": {
        "id": "TbaZWEb-mhiS"
      },
      "outputs": [],
      "source": [
        "# Making predictions on the testing set\n",
        "y_pred=logreg.predict(X_test)"
      ]
    },
    {
      "cell_type": "code",
      "execution_count": null,
      "metadata": {
        "colab": {
          "base_uri": "https://localhost:8080/"
        },
        "id": "DmzBnGIcnOW0",
        "outputId": "455f0f1e-e767-418f-a77a-bb343c1107ea"
      },
      "outputs": [
        {
          "output_type": "stream",
          "name": "stdout",
          "text": [
            "Logistic Regression model accuracy(in %): 77.69678855713806\n"
          ]
        }
      ],
      "source": [
        "# comparing actual response values (y_test) with predicted response values (y_pred)\n",
        "print(\"Logistic Regression model accuracy(in %):\",accuracy_score(y_test, y_pred)*100)"
      ]
    },
    {
      "cell_type": "markdown",
      "source": [
        "## Extra Trees Classifier"
      ],
      "metadata": {
        "id": "6g_8PiFSwcK2"
      }
    },
    {
      "cell_type": "code",
      "source": [
        "# Fit the model\n",
        "extree=ExtraTreesClassifier()\n",
        "extree.fit(X_train,y_train)"
      ],
      "metadata": {
        "colab": {
          "base_uri": "https://localhost:8080/"
        },
        "id": "hyYNkte-wbee",
        "outputId": "2a004577-f115-4c97-cba9-7041ec14dc9c"
      },
      "execution_count": null,
      "outputs": [
        {
          "output_type": "execute_result",
          "data": {
            "text/plain": [
              "ExtraTreesClassifier()"
            ]
          },
          "metadata": {},
          "execution_count": 39
        }
      ]
    },
    {
      "cell_type": "code",
      "source": [
        "# Make Prediction\n",
        "y_pred=extree.predict(X_test)"
      ],
      "metadata": {
        "id": "TERGw6JAw81D"
      },
      "execution_count": null,
      "outputs": []
    },
    {
      "cell_type": "code",
      "source": [
        "# evaluate predictions\n",
        "acc = accuracy_score(y_test, y_pred)\n",
        "accuracy=acc*100\n",
        "print('Accuracy: %.3f' % accuracy)"
      ],
      "metadata": {
        "colab": {
          "base_uri": "https://localhost:8080/"
        },
        "id": "vbkm86qnxOTt",
        "outputId": "99757616-55cf-4934-a3be-e58ea2319292"
      },
      "execution_count": null,
      "outputs": [
        {
          "output_type": "stream",
          "name": "stdout",
          "text": [
            "Accuracy: 97.310\n"
          ]
        }
      ]
    },
    {
      "cell_type": "markdown",
      "metadata": {
        "id": "FsxjtHZ5Kj4F"
      },
      "source": [
        "### Scaling the Training and Testing Sets"
      ]
    },
    {
      "cell_type": "code",
      "execution_count": null,
      "metadata": {
        "id": "GSlcfCH3qtlw"
      },
      "outputs": [],
      "source": [
        "sc = StandardScaler()\n",
        "X_train = sc.fit_transform(X_train)\n",
        "X_test = sc.transform(X_test)"
      ]
    },
    {
      "cell_type": "markdown",
      "metadata": {
        "id": "VWvNvB1lKuNE"
      },
      "source": [
        "## Linear Support Vector Classifier"
      ]
    },
    {
      "cell_type": "code",
      "execution_count": null,
      "metadata": {
        "id": "HltZQTbAnzdj"
      },
      "outputs": [],
      "source": [
        "# Training the model on training set\n",
        "lsvc = LinearSVC(verbose=0)\n",
        "lsvc.fit(X_train, y_train)\n",
        "# Making prediction on the testing set\n",
        "ypred = lsvc.predict(X_test)"
      ]
    },
    {
      "cell_type": "code",
      "execution_count": null,
      "metadata": {
        "colab": {
          "base_uri": "https://localhost:8080/"
        },
        "id": "dOtQs4C9pUzQ",
        "outputId": "58aa871f-4bdc-46df-ec07-6b3bdc3ebb59"
      },
      "outputs": [
        {
          "output_type": "stream",
          "name": "stdout",
          "text": [
            "Linear SVC model accuracy(in %): 78.0170179023453\n"
          ]
        }
      ],
      "source": [
        "# comparing actual response values (y_test) with predicted response values (y_pred)\n",
        "print(\"Linear SVC model accuracy(in %):\",accuracy_score(y_test, ypred)*100)"
      ]
    },
    {
      "cell_type": "markdown",
      "metadata": {
        "id": "-D3OStVhLLlK"
      },
      "source": [
        "## AdaBoost Classifier"
      ]
    },
    {
      "cell_type": "markdown",
      "metadata": {
        "id": "6ITHB3fNLQAG"
      },
      "source": [
        "### AdaBoost with Decision Tree Base Estimator"
      ]
    },
    {
      "cell_type": "code",
      "execution_count": null,
      "metadata": {
        "id": "PCbjL0jkrDM4"
      },
      "outputs": [],
      "source": [
        "# Create adaboost classifer object\n",
        "abc = AdaBoostClassifier(n_estimators=50,learning_rate=1) # The default Base Estimator is Decision Tree\n",
        "# Train Adaboost Classifer\n",
        "model = abc.fit(X_train, y_train)\n",
        "#Predict the response for test dataset\n",
        "y_pred = model.predict(X_test)"
      ]
    },
    {
      "cell_type": "code",
      "execution_count": null,
      "metadata": {
        "colab": {
          "base_uri": "https://localhost:8080/"
        },
        "id": "dG0_l8HpsXMb",
        "outputId": "99410bdb-7bee-4c12-c2c6-bae171f21fbb"
      },
      "outputs": [
        {
          "output_type": "stream",
          "name": "stdout",
          "text": [
            "Accuracy(in %): 75.98584891274513\n"
          ]
        }
      ],
      "source": [
        "# comparing actual response values (y_test) with predicted response values (y_pred)\n",
        "print(\"Accuracy(in %):\",accuracy_score(y_test, y_pred)*100)"
      ]
    },
    {
      "cell_type": "markdown",
      "metadata": {
        "id": "6lZNkq6nN3ue"
      },
      "source": [
        "## Stochastic Gradient Boosting Classification"
      ]
    },
    {
      "cell_type": "code",
      "execution_count": null,
      "metadata": {
        "id": "6xexhzWbNfbj"
      },
      "outputs": [],
      "source": [
        "# Fit the Model\n",
        "gbc = GradientBoostingClassifier(n_estimators=50)\n",
        "# Train Adaboost Classifer\n",
        "model = gbc.fit(X_train, y_train)\n",
        "#Predict the response for test dataset\n",
        "y_pred = model.predict(X_test)"
      ]
    },
    {
      "cell_type": "code",
      "source": [
        "# comparing actual response values (y_test) with predicted response values (y_pred)\n",
        "print(\"Accuracy(in %):\",accuracy_score(y_test, y_pred)*100)"
      ],
      "metadata": {
        "colab": {
          "base_uri": "https://localhost:8080/"
        },
        "id": "c79iBwBYziF6",
        "outputId": "249d2470-6637-4a88-b197-33935267e097"
      },
      "execution_count": null,
      "outputs": [
        {
          "output_type": "stream",
          "name": "stdout",
          "text": [
            "Accuracy(in %): 97.42596602519139\n"
          ]
        }
      ]
    },
    {
      "cell_type": "markdown",
      "metadata": {
        "id": "KWbubhUFOzpG"
      },
      "source": [
        "# Conclusion"
      ]
    },
    {
      "cell_type": "markdown",
      "metadata": {
        "id": "D-mL5BHhO3J6"
      },
      "source": [
        "### The Accuracies of the Various Models"
      ]
    },
    {
      "cell_type": "markdown",
      "metadata": {
        "id": "AIQmHzLsPEJc"
      },
      "source": [
        "- Random Forest Classifier: 99.396%\n",
        "- Gaussian Naive Bayes Model: 36.506%\n",
        "- Logistic Regression Model: 77.697%\n",
        "- Extra Trees Classifier: 97.310%\n",
        "- Linear Support Vector Classifier: 78.017%\n",
        "- AdaBoost Classifier with Decision Tree: 75.986%\n",
        "- Stochastic Gradient Boosting Classifier: 97.426%"
      ]
    }
  ],
  "metadata": {
    "colab": {
      "name": "WiDS DBA ML Models",
      "provenance": [],
      "authorship_tag": "ABX9TyMcwKRuMMhqWwkS6o0V6P4h",
      "include_colab_link": true
    },
    "kernelspec": {
      "display_name": "Python 3",
      "name": "python3"
    },
    "language_info": {
      "name": "python"
    }
  },
  "nbformat": 4,
  "nbformat_minor": 0
}